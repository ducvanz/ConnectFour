{
 "cells": [
  {
   "cell_type": "code",
   "execution_count": 1,
   "metadata": {},
   "outputs": [
    {
     "name": "stdout",
     "output_type": "stream",
     "text": [
      "pygame 2.6.1 (SDL 2.28.4, Python 3.13.1)\n",
      "Hello from the pygame community. https://www.pygame.org/contribute.html\n"
     ]
    }
   ],
   "source": [
    "import sys\n",
    "import os\n",
    "sys.path.append(os.path.abspath(\"..\"))\n",
    "\n",
    "from Simulation.Board import ConnectFourBoard\n",
    "from Constant import RED, YELLOW, IDLE \n",
    "\n",
    "from Simulation.MatchMaker import MatchMaker\n",
    "from AI_AlphaGo.minimaxAndRandom import MinimaxAndRandom"
   ]
  },
  {
   "cell_type": "code",
   "execution_count": 5,
   "metadata": {},
   "outputs": [
    {
     "name": "stdout",
     "output_type": "stream",
     "text": [
      "Has history\n"
     ]
    },
    {
     "data": {
      "text/plain": [
       "['d:\\\\Development Site\\\\Code MESS\\\\Pycharm (Python)\\\\ConnectFour\\\\DL\\\\data\\\\Train_RandomizeMinimax.npy',\n",
       " 'd:\\\\Development Site\\\\Code MESS\\\\Pycharm (Python)\\\\ConnectFour\\\\DL\\\\data\\\\Label_RandomizeMinimax.npy']"
      ]
     },
     "execution_count": 5,
     "metadata": {},
     "output_type": "execute_result"
    }
   ],
   "source": [
    "file_path = [os.path.abspath(\"data/Train_RandomizeMinimax.npy\"), os.path.abspath(\"data/Label_RandomizeMinimax.npy\")]\n",
    "\n",
    "Dual = MatchMaker(\n",
    "    shape=(7,7),\n",
    "    player1=MinimaxAndRandom(depth=5, random_percent_start=0.8, random_percent_end=0.0, eor=0.6, notPrunning=False),\n",
    "    player2=MinimaxAndRandom(depth=5, random_percent_start=0.6, random_percent_end=0.05, eor=0.8, notPrunning=False),\n",
    "    display_game=False,\n",
    "    delay=0,\n",
    "    games=2,\n",
    "    train_export_path=file_path[0],\n",
    "    label_export_path=file_path[1],\n",
    "    sleep_between_games=0,\n",
    "    display_turn_runtime=False\n",
    ")\n",
    "\n",
    "file_path"
   ]
  },
  {
   "cell_type": "code",
   "execution_count": 6,
   "metadata": {},
   "outputs": [
    {
     "name": "stdout",
     "output_type": "stream",
     "text": [
      "Game    1/   2 complete. Red (Randomize Minimax):   1, Yellow (Randomize Minimax):   0, Draws:   0, running 15 turn in 5.585649251937866 seconds\n",
      "1\n",
      "8\n",
      "Game    2/   2 complete. Red (Randomize Minimax):   2, Yellow (Randomize Minimax):   0, Draws:   0, running 31 turn in 7.267094135284424 seconds\n",
      "1\n",
      "16\n",
      "\n",
      "Results after 2 games:\n",
      "Red (Randomize Minimax): 2 (100.0%)\n",
      "Yellow (Randomize Minimax): 0 (0.0%)\n",
      "Draws: 0 (0.0%)\n",
      "{'Random': 7, 'Minimax': 17}\n",
      "{'Random': 9, 'Minimax': 13}\n"
     ]
    }
   ],
   "source": [
    "Dual.run()\n",
    "\n",
    "\n",
    "# Khảo sát số lượt Random, số lượt Minimax\n",
    "print(Dual.player1.stat)\n",
    "print(Dual.player2.stat)"
   ]
  }
 ],
 "metadata": {
  "kernelspec": {
   "display_name": "Python 3",
   "language": "python",
   "name": "python3"
  },
  "language_info": {
   "codemirror_mode": {
    "name": "ipython",
    "version": 3
   },
   "file_extension": ".py",
   "mimetype": "text/x-python",
   "name": "python",
   "nbconvert_exporter": "python",
   "pygments_lexer": "ipython3",
   "version": "3.13.1"
  }
 },
 "nbformat": 4,
 "nbformat_minor": 2
}
