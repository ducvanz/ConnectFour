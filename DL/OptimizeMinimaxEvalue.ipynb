{
 "cells": [
  {
   "cell_type": "code",
   "execution_count": 1,
   "metadata": {},
   "outputs": [
    {
     "name": "stdout",
     "output_type": "stream",
     "text": [
      "pygame 2.6.1 (SDL 2.28.4, Python 3.13.1)\n",
      "Hello from the pygame community. https://www.pygame.org/contribute.html\n"
     ]
    }
   ],
   "source": [
    "import sys\n",
    "import os\n",
    "sys.path.append(os.path.abspath(\"..\"))\n",
    "\n",
    "from Simulation.Board import ConnectFourBoard\n",
    "from Constant import RED, YELLOW, IDLE \n",
    "\n",
    "from Simulation.MatchMaker import MatchMaker\n",
    "from AI_AlphaGo.minimaxAndRandom import MinimaxAndRandom"
   ]
  },
  {
   "cell_type": "code",
   "execution_count": 2,
   "metadata": {},
   "outputs": [
    {
     "name": "stdout",
     "output_type": "stream",
     "text": [
      "Has history\n"
     ]
    },
    {
     "data": {
      "text/plain": [
       "['d:\\\\Development Site\\\\Code MESS\\\\Pycharm (Python)\\\\ConnectFour\\\\DL\\\\data\\\\Train_RandomizeMinimax.npy',\n",
       " 'd:\\\\Development Site\\\\Code MESS\\\\Pycharm (Python)\\\\ConnectFour\\\\DL\\\\data\\\\Label_RandomizeMinimax.npy']"
      ]
     },
     "execution_count": 2,
     "metadata": {},
     "output_type": "execute_result"
    }
   ],
   "source": [
    "file_path = [os.path.abspath(\"data/Train_RandomizeMinimax.npy\"), os.path.abspath(\"data/Label_RandomizeMinimax.npy\")]\n",
    "\n",
    "Dual = MatchMaker(\n",
    "    shape=(7,7),\n",
    "    player1=MinimaxAndRandom(depth=5, random_percent_start=0.7, random_percent_end=0.05, eor=0.6, notPrunning=False),\n",
    "    player2=MinimaxAndRandom(depth=5, random_percent_start=0.9, random_percent_end=0.05, eor=0.6, notPrunning=False),\n",
    "    display_game=False,\n",
    "    delay=0,\n",
    "    games=200,\n",
    "    train_export_path=file_path[0],\n",
    "    label_export_path=file_path[1],\n",
    "    sleep_between_games=0,\n",
    "    display_turn_runtime=False\n",
    ")\n",
    "\n",
    "file_path"
   ]
  },
  {
   "cell_type": "code",
   "execution_count": 3,
   "metadata": {},
   "outputs": [
    {
     "name": "stdout",
     "output_type": "stream",
     "text": [
      "Game    1/ 200 complete. Red (Randomize Minimax):   0, Yellow (Randomize Minimax):   1, Draws:   0, running 24 turn in 4.500651121139526 seconds\n",
      "Game    2/ 200 complete. Red (Randomize Minimax):   1, Yellow (Randomize Minimax):   1, Draws:   0, running 17 turn in 7.758054256439209 seconds\n",
      "Game    3/ 200 complete. Red (Randomize Minimax):   2, Yellow (Randomize Minimax):   1, Draws:   0, running 33 turn in 7.781764030456543 seconds\n",
      "Game    4/ 200 complete. Red (Randomize Minimax):   2, Yellow (Randomize Minimax):   2, Draws:   0, running 34 turn in 5.888900995254517 seconds\n",
      "Game    5/ 200 complete. Red (Randomize Minimax):   3, Yellow (Randomize Minimax):   2, Draws:   0, running 17 turn in 6.563335657119751 seconds\n",
      "Game    6/ 200 complete. Red (Randomize Minimax):   3, Yellow (Randomize Minimax):   3, Draws:   0, running 20 turn in 6.270922660827637 seconds\n",
      "Game    7/ 200 complete. Red (Randomize Minimax):   3, Yellow (Randomize Minimax):   3, Draws:   1, running 49 turn in 5.6665332317352295 seconds\n",
      "Game    8/ 200 complete. Red (Randomize Minimax):   4, Yellow (Randomize Minimax):   3, Draws:   1, running 33 turn in 4.982372999191284 seconds\n",
      "Game    9/ 200 complete. Red (Randomize Minimax):   5, Yellow (Randomize Minimax):   3, Draws:   1, running 27 turn in 3.8976175785064697 seconds\n",
      "Game   10/ 200 complete. Red (Randomize Minimax):   6, Yellow (Randomize Minimax):   3, Draws:   1, running 33 turn in 8.229782581329346 seconds\n",
      "Game   11/ 200 complete. Red (Randomize Minimax):   6, Yellow (Randomize Minimax):   4, Draws:   1, running 24 turn in 12.257123708724976 seconds\n",
      "Game   12/ 200 complete. Red (Randomize Minimax):   6, Yellow (Randomize Minimax):   4, Draws:   2, running 49 turn in 7.745182752609253 seconds\n",
      "Game   13/ 200 complete. Red (Randomize Minimax):   7, Yellow (Randomize Minimax):   4, Draws:   2, running 43 turn in 11.676794290542603 seconds\n",
      "Game   14/ 200 complete. Red (Randomize Minimax):   8, Yellow (Randomize Minimax):   4, Draws:   2, running 13 turn in 3.644228458404541 seconds\n",
      "Game   15/ 200 complete. Red (Randomize Minimax):   9, Yellow (Randomize Minimax):   4, Draws:   2, running 23 turn in 11.00440263748169 seconds\n",
      "Game   16/ 200 complete. Red (Randomize Minimax):   9, Yellow (Randomize Minimax):   5, Draws:   2, running 46 turn in 6.13472318649292 seconds\n",
      "Game   17/ 200 complete. Red (Randomize Minimax):  10, Yellow (Randomize Minimax):   5, Draws:   2, running 19 turn in 3.0222599506378174 seconds\n",
      "Game   18/ 200 complete. Red (Randomize Minimax):  11, Yellow (Randomize Minimax):   5, Draws:   2, running 43 turn in 9.125809907913208 seconds\n",
      "Game   19/ 200 complete. Red (Randomize Minimax):  12, Yellow (Randomize Minimax):   5, Draws:   2, running 27 turn in 7.456410884857178 seconds\n",
      "Game   20/ 200 complete. Red (Randomize Minimax):  12, Yellow (Randomize Minimax):   6, Draws:   2, running 42 turn in 13.824170351028442 seconds\n",
      "Game   21/ 200 complete. Red (Randomize Minimax):  12, Yellow (Randomize Minimax):   7, Draws:   2, running 24 turn in 4.53900671005249 seconds\n",
      "Game   22/ 200 complete. Red (Randomize Minimax):  13, Yellow (Randomize Minimax):   7, Draws:   2, running 27 turn in 6.310207366943359 seconds\n",
      "Game   23/ 200 complete. Red (Randomize Minimax):  13, Yellow (Randomize Minimax):   8, Draws:   2, running 24 turn in 4.262901544570923 seconds\n",
      "Game   24/ 200 complete. Red (Randomize Minimax):  14, Yellow (Randomize Minimax):   8, Draws:   2, running 25 turn in 9.004029750823975 seconds\n",
      "Game   25/ 200 complete. Red (Randomize Minimax):  15, Yellow (Randomize Minimax):   8, Draws:   2, running 21 turn in 7.640542984008789 seconds\n",
      "Game   26/ 200 complete. Red (Randomize Minimax):  15, Yellow (Randomize Minimax):   9, Draws:   2, running 30 turn in 4.346204519271851 seconds\n",
      "Game   27/ 200 complete. Red (Randomize Minimax):  15, Yellow (Randomize Minimax):  10, Draws:   2, running 20 turn in 4.4139487743377686 seconds\n",
      "Game   28/ 200 complete. Red (Randomize Minimax):  16, Yellow (Randomize Minimax):  10, Draws:   2, running 49 turn in 5.36555027961731 seconds\n",
      "Game   29/ 200 complete. Red (Randomize Minimax):  17, Yellow (Randomize Minimax):  10, Draws:   2, running 39 turn in 7.526047706604004 seconds\n",
      "Game   30/ 200 complete. Red (Randomize Minimax):  18, Yellow (Randomize Minimax):  10, Draws:   2, running 25 turn in 5.106159448623657 seconds\n",
      "Game   31/ 200 complete. Red (Randomize Minimax):  18, Yellow (Randomize Minimax):  10, Draws:   3, running 49 turn in 3.3314297199249268 seconds\n",
      "Game   32/ 200 complete. Red (Randomize Minimax):  19, Yellow (Randomize Minimax):  10, Draws:   3, running 31 turn in 8.499835014343262 seconds\n",
      "Game   33/ 200 complete. Red (Randomize Minimax):  19, Yellow (Randomize Minimax):  10, Draws:   4, running 49 turn in 8.582512617111206 seconds\n"
     ]
    },
    {
     "ename": "KeyboardInterrupt",
     "evalue": "",
     "output_type": "error",
     "traceback": [
      "\u001b[1;31m---------------------------------------------------------------------------\u001b[0m",
      "\u001b[1;31mKeyboardInterrupt\u001b[0m                         Traceback (most recent call last)",
      "Cell \u001b[1;32mIn[3], line 1\u001b[0m\n\u001b[1;32m----> 1\u001b[0m \u001b[43mDual\u001b[49m\u001b[38;5;241;43m.\u001b[39;49m\u001b[43mrun\u001b[49m\u001b[43m(\u001b[49m\u001b[43m)\u001b[49m\n\u001b[0;32m      4\u001b[0m \u001b[38;5;66;03m# Khảo sát số lượt Random, số lượt Minimax\u001b[39;00m\n\u001b[0;32m      5\u001b[0m \u001b[38;5;28mprint\u001b[39m(Dual\u001b[38;5;241m.\u001b[39mplayer1\u001b[38;5;241m.\u001b[39mstat)\n",
      "File \u001b[1;32md:\\Development Site\\Code MESS\\Pycharm (Python)\\ConnectFour\\Simulation\\MatchMaker.py:320\u001b[0m, in \u001b[0;36mMatchMaker.run\u001b[1;34m(self)\u001b[0m\n\u001b[0;32m    317\u001b[0m \u001b[38;5;28;01mif\u001b[39;00m \u001b[38;5;28mself\u001b[39m\u001b[38;5;241m.\u001b[39mdisplay_game :\n\u001b[0;32m    318\u001b[0m     pg\u001b[38;5;241m.\u001b[39mdisplay\u001b[38;5;241m.\u001b[39mset_caption(\u001b[38;5;124mf\u001b[39m\u001b[38;5;124m\"\u001b[39m\u001b[38;5;124mAI vs AI - Game \u001b[39m\u001b[38;5;132;01m{\u001b[39;00mi\u001b[38;5;132;01m}\u001b[39;00m\u001b[38;5;124m/\u001b[39m\u001b[38;5;132;01m{\u001b[39;00m\u001b[38;5;28mself\u001b[39m\u001b[38;5;241m.\u001b[39mgames\u001b[38;5;132;01m}\u001b[39;00m\u001b[38;5;124m - \u001b[39m\u001b[38;5;132;01m{\u001b[39;00mai1_name\u001b[38;5;132;01m}\u001b[39;00m\u001b[38;5;124m vs \u001b[39m\u001b[38;5;132;01m{\u001b[39;00mai2_name\u001b[38;5;132;01m}\u001b[39;00m\u001b[38;5;124m\"\u001b[39m)\n\u001b[1;32m--> 320\u001b[0m winner \u001b[38;5;241m=\u001b[39m \u001b[38;5;28;43mself\u001b[39;49m\u001b[38;5;241;43m.\u001b[39;49m\u001b[43mplay_game\u001b[49m\u001b[43m(\u001b[49m\u001b[43m)\u001b[49m\n\u001b[0;32m    321\u001b[0m \u001b[38;5;28mself\u001b[39m\u001b[38;5;241m.\u001b[39mhistory_games\u001b[38;5;241m.\u001b[39mappend(\u001b[38;5;28mself\u001b[39m\u001b[38;5;241m.\u001b[39mgame)\n\u001b[0;32m    322\u001b[0m \u001b[38;5;28;01mif\u001b[39;00m winner \u001b[38;5;129;01mis\u001b[39;00m \u001b[38;5;28;01mNone\u001b[39;00m:  \u001b[38;5;66;03m# User quit\u001b[39;00m\n",
      "File \u001b[1;32md:\\Development Site\\Code MESS\\Pycharm (Python)\\ConnectFour\\Simulation\\MatchMaker.py:231\u001b[0m, in \u001b[0;36mMatchMaker.play_game\u001b[1;34m(self)\u001b[0m\n\u001b[0;32m    228\u001b[0m \u001b[38;5;28;01mif\u001b[39;00m \u001b[38;5;28mself\u001b[39m\u001b[38;5;241m.\u001b[39mdisplay_game:\n\u001b[0;32m    229\u001b[0m     pg\u001b[38;5;241m.\u001b[39mdisplay\u001b[38;5;241m.\u001b[39mset_caption(\u001b[38;5;124mf\u001b[39m\u001b[38;5;124m\"\u001b[39m\u001b[38;5;124mAI vs AI - \u001b[39m\u001b[38;5;132;01m{\u001b[39;00mcurrent_player\u001b[38;5;241m.\u001b[39mname\u001b[38;5;132;01m}\u001b[39;00m\u001b[38;5;124m is thinking...\u001b[39m\u001b[38;5;124m\"\u001b[39m)\n\u001b[1;32m--> 231\u001b[0m col, evaluate \u001b[38;5;241m=\u001b[39m \u001b[43mcurrent_player\u001b[49m\u001b[38;5;241;43m.\u001b[39;49m\u001b[43mget_move\u001b[49m\u001b[43m(\u001b[49m\u001b[38;5;28;43mself\u001b[39;49m\u001b[38;5;241;43m.\u001b[39;49m\u001b[43mgame\u001b[49m\u001b[43m)\u001b[49m\n\u001b[0;32m    233\u001b[0m \u001b[38;5;28;01mif\u001b[39;00m col \u001b[38;5;129;01mis\u001b[39;00m \u001b[38;5;28;01mNone\u001b[39;00m:\n\u001b[0;32m    234\u001b[0m     \u001b[38;5;28;01mreturn\u001b[39;00m \u001b[38;5;28;01mNone\u001b[39;00m         \u001b[38;5;66;03m# Quit game\u001b[39;00m\n",
      "File \u001b[1;32md:\\Development Site\\Code MESS\\Pycharm (Python)\\ConnectFour\\AI_AlphaGo\\minimaxAndRandom.py:45\u001b[0m, in \u001b[0;36mMinimaxAndRandom.get_move\u001b[1;34m(self, game)\u001b[0m\n\u001b[0;32m     43\u001b[0m \u001b[38;5;28mself\u001b[39m\u001b[38;5;241m.\u001b[39mname \u001b[38;5;241m=\u001b[39m \u001b[38;5;28mself\u001b[39m\u001b[38;5;241m.\u001b[39morg_name \u001b[38;5;241m+\u001b[39m \u001b[38;5;124m'\u001b[39m\u001b[38;5;124m:\u001b[39m\u001b[38;5;124m'\u001b[39m \u001b[38;5;241m+\u001b[39m current_runner\u001b[38;5;241m.\u001b[39mname\n\u001b[0;32m     44\u001b[0m current_runner\u001b[38;5;241m.\u001b[39mset_color(\u001b[38;5;28mself\u001b[39m\u001b[38;5;241m.\u001b[39mcolor)\n\u001b[1;32m---> 45\u001b[0m \u001b[38;5;28;01mreturn\u001b[39;00m \u001b[43mcurrent_runner\u001b[49m\u001b[38;5;241;43m.\u001b[39;49m\u001b[43mget_move\u001b[49m\u001b[43m(\u001b[49m\u001b[43mgame\u001b[49m\u001b[43m)\u001b[49m\n",
      "File \u001b[1;32md:\\Development Site\\Code MESS\\Pycharm (Python)\\ConnectFour\\AI_AlphaGo\\minimaxVsABPrunning.py:155\u001b[0m, in \u001b[0;36mMinimaxAI.get_move\u001b[1;34m(self, game)\u001b[0m\n\u001b[0;32m    153\u001b[0m \u001b[38;5;28;01mdef\u001b[39;00m\u001b[38;5;250m \u001b[39m\u001b[38;5;21mget_move\u001b[39m(\u001b[38;5;28mself\u001b[39m, game: ConnectFourBoard):\n\u001b[0;32m    154\u001b[0m \u001b[38;5;250m    \u001b[39m\u001b[38;5;124;03m\"\"\"Get the best move for the AI using Minimax.\"\"\"\u001b[39;00m\n\u001b[1;32m--> 155\u001b[0m     evaluated \u001b[38;5;241m=\u001b[39m \u001b[38;5;28;43mself\u001b[39;49m\u001b[38;5;241;43m.\u001b[39;49m\u001b[43mminimax\u001b[49m\u001b[43m(\u001b[49m\u001b[43mgame\u001b[49m\u001b[43m,\u001b[49m\u001b[43m \u001b[49m\u001b[38;5;28;43mself\u001b[39;49m\u001b[38;5;241;43m.\u001b[39;49m\u001b[43mdepth\u001b[49m\u001b[43m,\u001b[49m\u001b[43m \u001b[49m\u001b[38;5;28;43;01mTrue\u001b[39;49;00m\u001b[43m)\u001b[49m\n\u001b[0;32m    157\u001b[0m     \u001b[38;5;66;03m# print(np.argmax(evaluated))\u001b[39;00m\n\u001b[0;32m    159\u001b[0m     \u001b[38;5;28;01mreturn\u001b[39;00m np\u001b[38;5;241m.\u001b[39margmax(evaluated), evaluated\n",
      "File \u001b[1;32md:\\Development Site\\Code MESS\\Pycharm (Python)\\ConnectFour\\AI_AlphaGo\\minimaxVsABPrunning.py:111\u001b[0m, in \u001b[0;36mMinimaxAI.minimax\u001b[1;34m(self, game, depth, maximizingPlayer, Alpha, Beta)\u001b[0m\n\u001b[0;32m    109\u001b[0m \u001b[38;5;66;03m# Drop piece and recurse\u001b[39;00m\n\u001b[0;32m    110\u001b[0m \u001b[38;5;28;01mif\u001b[39;00m temp_game\u001b[38;5;241m.\u001b[39mdrop_piece(col):  \u001b[38;5;66;03m# Only drop if the column is not full\u001b[39;00m\n\u001b[1;32m--> 111\u001b[0m     e \u001b[38;5;241m=\u001b[39m \u001b[38;5;28;43mself\u001b[39;49m\u001b[38;5;241;43m.\u001b[39;49m\u001b[43mminimax\u001b[49m\u001b[43m(\u001b[49m\u001b[43mtemp_game\u001b[49m\u001b[43m,\u001b[49m\u001b[43m \u001b[49m\u001b[43mdepth\u001b[49m\u001b[43m \u001b[49m\u001b[38;5;241;43m-\u001b[39;49m\u001b[43m \u001b[49m\u001b[38;5;241;43m1\u001b[39;49m\u001b[43m,\u001b[49m\u001b[43m \u001b[49m\u001b[38;5;28;43;01mFalse\u001b[39;49;00m\u001b[43m,\u001b[49m\u001b[43m \u001b[49m\u001b[43mAlpha\u001b[49m\u001b[38;5;241;43m=\u001b[39;49m\u001b[43malpha\u001b[49m\u001b[43m)\u001b[49m\n\u001b[0;32m    112\u001b[0m     scores[col] \u001b[38;5;241m=\u001b[39m np\u001b[38;5;241m.\u001b[39mmin(e)\u001b[38;5;241m.\u001b[39mastype(\u001b[38;5;28mfloat\u001b[39m)\n\u001b[0;32m    114\u001b[0m     \u001b[38;5;66;03m# if (depth == self.depth) :\u001b[39;00m\n\u001b[0;32m    115\u001b[0m     \u001b[38;5;66;03m#     print('Turn 1: ', col, scores[col] / 0.95)\u001b[39;00m\n\u001b[0;32m    116\u001b[0m     \n\u001b[0;32m    117\u001b[0m     \u001b[38;5;66;03m# Pruning\u001b[39;00m\n",
      "File \u001b[1;32md:\\Development Site\\Code MESS\\Pycharm (Python)\\ConnectFour\\AI_AlphaGo\\minimaxVsABPrunning.py:137\u001b[0m, in \u001b[0;36mMinimaxAI.minimax\u001b[1;34m(self, game, depth, maximizingPlayer, Alpha, Beta)\u001b[0m\n\u001b[0;32m    135\u001b[0m \u001b[38;5;66;03m# Drop piece and recurse\u001b[39;00m\n\u001b[0;32m    136\u001b[0m \u001b[38;5;28;01mif\u001b[39;00m temp_game\u001b[38;5;241m.\u001b[39mdrop_piece(col):\n\u001b[1;32m--> 137\u001b[0m     e \u001b[38;5;241m=\u001b[39m \u001b[38;5;28;43mself\u001b[39;49m\u001b[38;5;241;43m.\u001b[39;49m\u001b[43mminimax\u001b[49m\u001b[43m(\u001b[49m\u001b[43mtemp_game\u001b[49m\u001b[43m,\u001b[49m\u001b[43m \u001b[49m\u001b[43mdepth\u001b[49m\u001b[43m \u001b[49m\u001b[38;5;241;43m-\u001b[39;49m\u001b[43m \u001b[49m\u001b[38;5;241;43m1\u001b[39;49m\u001b[43m,\u001b[49m\u001b[43m \u001b[49m\u001b[38;5;28;43;01mTrue\u001b[39;49;00m\u001b[43m,\u001b[49m\u001b[43m \u001b[49m\u001b[43mBeta\u001b[49m\u001b[38;5;241;43m=\u001b[39;49m\u001b[43mbeta\u001b[49m\u001b[43m)\u001b[49m\n\u001b[0;32m    138\u001b[0m     scores[col] \u001b[38;5;241m=\u001b[39m np\u001b[38;5;241m.\u001b[39mmax(e)\u001b[38;5;241m.\u001b[39mastype(\u001b[38;5;28mfloat\u001b[39m)\n\u001b[0;32m    140\u001b[0m     \u001b[38;5;66;03m# if (depth == self.depth - 1) :\u001b[39;00m\n\u001b[0;32m    141\u001b[0m     \u001b[38;5;66;03m#     print('Turn 2: ', col, '\\n', e, np.argmax(e)) \u001b[39;00m\n\u001b[0;32m    142\u001b[0m \n\u001b[0;32m    143\u001b[0m     \u001b[38;5;66;03m# Pruning\u001b[39;00m\n",
      "File \u001b[1;32md:\\Development Site\\Code MESS\\Pycharm (Python)\\ConnectFour\\AI_AlphaGo\\minimaxVsABPrunning.py:111\u001b[0m, in \u001b[0;36mMinimaxAI.minimax\u001b[1;34m(self, game, depth, maximizingPlayer, Alpha, Beta)\u001b[0m\n\u001b[0;32m    109\u001b[0m \u001b[38;5;66;03m# Drop piece and recurse\u001b[39;00m\n\u001b[0;32m    110\u001b[0m \u001b[38;5;28;01mif\u001b[39;00m temp_game\u001b[38;5;241m.\u001b[39mdrop_piece(col):  \u001b[38;5;66;03m# Only drop if the column is not full\u001b[39;00m\n\u001b[1;32m--> 111\u001b[0m     e \u001b[38;5;241m=\u001b[39m \u001b[38;5;28;43mself\u001b[39;49m\u001b[38;5;241;43m.\u001b[39;49m\u001b[43mminimax\u001b[49m\u001b[43m(\u001b[49m\u001b[43mtemp_game\u001b[49m\u001b[43m,\u001b[49m\u001b[43m \u001b[49m\u001b[43mdepth\u001b[49m\u001b[43m \u001b[49m\u001b[38;5;241;43m-\u001b[39;49m\u001b[43m \u001b[49m\u001b[38;5;241;43m1\u001b[39;49m\u001b[43m,\u001b[49m\u001b[43m \u001b[49m\u001b[38;5;28;43;01mFalse\u001b[39;49;00m\u001b[43m,\u001b[49m\u001b[43m \u001b[49m\u001b[43mAlpha\u001b[49m\u001b[38;5;241;43m=\u001b[39;49m\u001b[43malpha\u001b[49m\u001b[43m)\u001b[49m\n\u001b[0;32m    112\u001b[0m     scores[col] \u001b[38;5;241m=\u001b[39m np\u001b[38;5;241m.\u001b[39mmin(e)\u001b[38;5;241m.\u001b[39mastype(\u001b[38;5;28mfloat\u001b[39m)\n\u001b[0;32m    114\u001b[0m     \u001b[38;5;66;03m# if (depth == self.depth) :\u001b[39;00m\n\u001b[0;32m    115\u001b[0m     \u001b[38;5;66;03m#     print('Turn 1: ', col, scores[col] / 0.95)\u001b[39;00m\n\u001b[0;32m    116\u001b[0m     \n\u001b[0;32m    117\u001b[0m     \u001b[38;5;66;03m# Pruning\u001b[39;00m\n",
      "File \u001b[1;32md:\\Development Site\\Code MESS\\Pycharm (Python)\\ConnectFour\\AI_AlphaGo\\minimaxVsABPrunning.py:137\u001b[0m, in \u001b[0;36mMinimaxAI.minimax\u001b[1;34m(self, game, depth, maximizingPlayer, Alpha, Beta)\u001b[0m\n\u001b[0;32m    135\u001b[0m \u001b[38;5;66;03m# Drop piece and recurse\u001b[39;00m\n\u001b[0;32m    136\u001b[0m \u001b[38;5;28;01mif\u001b[39;00m temp_game\u001b[38;5;241m.\u001b[39mdrop_piece(col):\n\u001b[1;32m--> 137\u001b[0m     e \u001b[38;5;241m=\u001b[39m \u001b[38;5;28;43mself\u001b[39;49m\u001b[38;5;241;43m.\u001b[39;49m\u001b[43mminimax\u001b[49m\u001b[43m(\u001b[49m\u001b[43mtemp_game\u001b[49m\u001b[43m,\u001b[49m\u001b[43m \u001b[49m\u001b[43mdepth\u001b[49m\u001b[43m \u001b[49m\u001b[38;5;241;43m-\u001b[39;49m\u001b[43m \u001b[49m\u001b[38;5;241;43m1\u001b[39;49m\u001b[43m,\u001b[49m\u001b[43m \u001b[49m\u001b[38;5;28;43;01mTrue\u001b[39;49;00m\u001b[43m,\u001b[49m\u001b[43m \u001b[49m\u001b[43mBeta\u001b[49m\u001b[38;5;241;43m=\u001b[39;49m\u001b[43mbeta\u001b[49m\u001b[43m)\u001b[49m\n\u001b[0;32m    138\u001b[0m     scores[col] \u001b[38;5;241m=\u001b[39m np\u001b[38;5;241m.\u001b[39mmax(e)\u001b[38;5;241m.\u001b[39mastype(\u001b[38;5;28mfloat\u001b[39m)\n\u001b[0;32m    140\u001b[0m     \u001b[38;5;66;03m# if (depth == self.depth - 1) :\u001b[39;00m\n\u001b[0;32m    141\u001b[0m     \u001b[38;5;66;03m#     print('Turn 2: ', col, '\\n', e, np.argmax(e)) \u001b[39;00m\n\u001b[0;32m    142\u001b[0m \n\u001b[0;32m    143\u001b[0m     \u001b[38;5;66;03m# Pruning\u001b[39;00m\n",
      "File \u001b[1;32md:\\Development Site\\Code MESS\\Pycharm (Python)\\ConnectFour\\AI_AlphaGo\\minimaxVsABPrunning.py:111\u001b[0m, in \u001b[0;36mMinimaxAI.minimax\u001b[1;34m(self, game, depth, maximizingPlayer, Alpha, Beta)\u001b[0m\n\u001b[0;32m    109\u001b[0m \u001b[38;5;66;03m# Drop piece and recurse\u001b[39;00m\n\u001b[0;32m    110\u001b[0m \u001b[38;5;28;01mif\u001b[39;00m temp_game\u001b[38;5;241m.\u001b[39mdrop_piece(col):  \u001b[38;5;66;03m# Only drop if the column is not full\u001b[39;00m\n\u001b[1;32m--> 111\u001b[0m     e \u001b[38;5;241m=\u001b[39m \u001b[38;5;28;43mself\u001b[39;49m\u001b[38;5;241;43m.\u001b[39;49m\u001b[43mminimax\u001b[49m\u001b[43m(\u001b[49m\u001b[43mtemp_game\u001b[49m\u001b[43m,\u001b[49m\u001b[43m \u001b[49m\u001b[43mdepth\u001b[49m\u001b[43m \u001b[49m\u001b[38;5;241;43m-\u001b[39;49m\u001b[43m \u001b[49m\u001b[38;5;241;43m1\u001b[39;49m\u001b[43m,\u001b[49m\u001b[43m \u001b[49m\u001b[38;5;28;43;01mFalse\u001b[39;49;00m\u001b[43m,\u001b[49m\u001b[43m \u001b[49m\u001b[43mAlpha\u001b[49m\u001b[38;5;241;43m=\u001b[39;49m\u001b[43malpha\u001b[49m\u001b[43m)\u001b[49m\n\u001b[0;32m    112\u001b[0m     scores[col] \u001b[38;5;241m=\u001b[39m np\u001b[38;5;241m.\u001b[39mmin(e)\u001b[38;5;241m.\u001b[39mastype(\u001b[38;5;28mfloat\u001b[39m)\n\u001b[0;32m    114\u001b[0m     \u001b[38;5;66;03m# if (depth == self.depth) :\u001b[39;00m\n\u001b[0;32m    115\u001b[0m     \u001b[38;5;66;03m#     print('Turn 1: ', col, scores[col] / 0.95)\u001b[39;00m\n\u001b[0;32m    116\u001b[0m     \n\u001b[0;32m    117\u001b[0m     \u001b[38;5;66;03m# Pruning\u001b[39;00m\n",
      "File \u001b[1;32md:\\Development Site\\Code MESS\\Pycharm (Python)\\ConnectFour\\AI_AlphaGo\\minimaxVsABPrunning.py:97\u001b[0m, in \u001b[0;36mMinimaxAI.minimax\u001b[1;34m(self, game, depth, maximizingPlayer, Alpha, Beta)\u001b[0m\n\u001b[0;32m     95\u001b[0m     \u001b[38;5;28;01mreturn\u001b[39;00m [\u001b[38;5;241m0.0\u001b[39m]\n\u001b[0;32m     96\u001b[0m \u001b[38;5;28;01mif\u001b[39;00m depth \u001b[38;5;241m==\u001b[39m \u001b[38;5;241m0\u001b[39m: \n\u001b[1;32m---> 97\u001b[0m     \u001b[38;5;28;01mreturn\u001b[39;00m [\u001b[38;5;28;43mself\u001b[39;49m\u001b[38;5;241;43m.\u001b[39;49m\u001b[43mevaluate\u001b[49m\u001b[43m(\u001b[49m\u001b[43mgame\u001b[49m\u001b[43m)\u001b[49m]\n\u001b[0;32m     99\u001b[0m valid_columns \u001b[38;5;241m=\u001b[39m game\u001b[38;5;241m.\u001b[39mget_available_columns()\n\u001b[0;32m    101\u001b[0m \u001b[38;5;28;01mif\u001b[39;00m maximizingPlayer:  \u001b[38;5;66;03m# RED player\u001b[39;00m\n",
      "File \u001b[1;32md:\\Development Site\\Code MESS\\Pycharm (Python)\\ConnectFour\\AI_AlphaGo\\minimaxVsABPrunning.py:60\u001b[0m, in \u001b[0;36mMinimaxAI.evaluate\u001b[1;34m(self, game)\u001b[0m\n\u001b[0;32m     58\u001b[0m \u001b[38;5;66;03m# Evaluate horizontal windows\u001b[39;00m\n\u001b[0;32m     59\u001b[0m \u001b[38;5;28;01mfor\u001b[39;00m r \u001b[38;5;129;01min\u001b[39;00m \u001b[38;5;28mrange\u001b[39m(game\u001b[38;5;241m.\u001b[39mrows):\n\u001b[1;32m---> 60\u001b[0m     row_array \u001b[38;5;241m=\u001b[39m [\u001b[38;5;28mint\u001b[39m(i) \u001b[38;5;28;01mfor\u001b[39;00m i \u001b[38;5;129;01min\u001b[39;00m \u001b[38;5;28mlist\u001b[39m(game\u001b[38;5;241m.\u001b[39mboard[r, :])]\n\u001b[0;32m     61\u001b[0m     \u001b[38;5;28;01mfor\u001b[39;00m c \u001b[38;5;129;01min\u001b[39;00m \u001b[38;5;28mrange\u001b[39m(game\u001b[38;5;241m.\u001b[39mcolumns \u001b[38;5;241m-\u001b[39m \u001b[38;5;241m3\u001b[39m):\n\u001b[0;32m     62\u001b[0m         window \u001b[38;5;241m=\u001b[39m row_array[c:c \u001b[38;5;241m+\u001b[39m \u001b[38;5;241m4\u001b[39m]\n",
      "\u001b[1;31mKeyboardInterrupt\u001b[0m: "
     ]
    }
   ],
   "source": [
    "Dual.run()\n",
    "\n",
    "\n",
    "# Khảo sát số lượt Random, số lượt Minimax\n",
    "print(Dual.player1.stat)\n",
    "print(Dual.player2.stat)"
   ]
  }
 ],
 "metadata": {
  "kernelspec": {
   "display_name": "Python 3",
   "language": "python",
   "name": "python3"
  },
  "language_info": {
   "codemirror_mode": {
    "name": "ipython",
    "version": 3
   },
   "file_extension": ".py",
   "mimetype": "text/x-python",
   "name": "python",
   "nbconvert_exporter": "python",
   "pygments_lexer": "ipython3",
   "version": "3.13.1"
  }
 },
 "nbformat": 4,
 "nbformat_minor": 2
}
