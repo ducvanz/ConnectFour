{
 "cells": [
  {
   "cell_type": "code",
   "execution_count": null,
   "metadata": {},
   "outputs": [],
   "source": [
    "from tensorflow.keras.utils import to_categorical\n",
    "from tensorflow.keras.models import Model, Sequential\n",
    "from tensorflow.keras.layers import Input, Dense, Conv2D, BatchNormalization, Flatten, Softmax\n",
    "from tensorflow.keras.optimizers import Adam\n",
    "import numpy as np\n",
    "import pickle"
   ]
  },
  {
   "cell_type": "code",
   "execution_count": null,
   "metadata": {},
   "outputs": [],
   "source": [
    "Branch = Sequential([\n",
    "    Input(shape=(7, 7, 1)),\n",
    "    Conv2D(256, (3, 3), activation='linear', padding='valid', kernel_initializer='he_normal'),\n",
    "    BatchNormalization(),\n",
    "    Conv2D(512, (3, 3), activation='linear', padding='valid', kernel_initializer='he_normal'),   \n",
    "    Flatten(),\n",
    "    BatchNormalization(),\n",
    "    Dense(1024, activation=\"linear\", kernel_initializer='he_normal'),\n",
    "    Dense(256, activation=\"linear\", kernel_initializer='he_normal'),\n",
    "    Dense(64, activation=\"linear\", kernel_initializer='he_normal'),\n",
    "    Dense(7, activation=\"linear\")\n",
    "])\n",
    "\n",
    "# Root = Softmax(Branch.output)   # Thực hiện Softmax trực tiếp lên output của Branch\n",
    "\n",
    "Branch.compile(loss='categorical_crossentropy', optimizer=Adam(learning_rate=1e-4), metrics=['mse', 'accuracy'])"
   ]
  },
  {
   "cell_type": "code",
   "execution_count": null,
   "metadata": {},
   "outputs": [],
   "source": [
    "Branch.summary()"
   ]
  },
  {
   "cell_type": "code",
   "execution_count": null,
   "metadata": {},
   "outputs": [],
   "source": [
    "Root.summary()"
   ]
  },
  {
   "cell_type": "code",
   "execution_count": null,
   "metadata": {},
   "outputs": [],
   "source": [
    "train_data = np.load('data/Train_RandomizeMinimax.npy')\n",
    "\n",
    "label_data = np.load('data/Label_RandomizeMinimax.npy')\n",
    "\n",
    "if len(train_data) == len(label_data) :\n",
    "    print(len(train_data), 'samples')\n",
    "else :\n",
    "    'Lỗi về mẫu training-set'\n",
    "\n",
    "label_data[100]"
   ]
  },
  {
   "cell_type": "code",
   "execution_count": null,
   "metadata": {},
   "outputs": [],
   "source": [
    "Branch.fit(train_data, label_data, epochs = 256, verbose = 1)"
   ]
  },
  {
   "cell_type": "code",
   "execution_count": null,
   "metadata": {},
   "outputs": [],
   "source": [
    "Branch.predict(np.array([[[0, 0, 0, 0, 0, 0, 0],\n",
    "                         [0, 0, 0, 0, 0, 0, 0],\n",
    "                         [0, 0, 0, 0, 0, 0, 0],\n",
    "                         [0, 0, 0, 0, 0, 0, 0],\n",
    "                         [0, 0, -1, -1, 0, 0, 0],\n",
    "                         [0, 0, -1, 1, 0, 0, 0],\n",
    "                         [0, 0, -1, 1, 1, 0, 0]]]))"
   ]
  },
  {
   "cell_type": "code",
   "execution_count": null,
   "metadata": {},
   "outputs": [],
   "source": [
    "Root.save(\"DL/model/Root.h5\")\n",
    "Branch.save(\"DL/model/Branch.h5\")"
   ]
  }
 ],
 "metadata": {
  "kernelspec": {
   "display_name": "Python 3",
   "language": "python",
   "name": "python3"
  },
  "language_info": {
   "codemirror_mode": {
    "name": "ipython",
    "version": 3
   },
   "file_extension": ".py",
   "mimetype": "text/x-python",
   "name": "python",
   "nbconvert_exporter": "python",
   "pygments_lexer": "ipython3",
   "version": "3.11.9"
  }
 },
 "nbformat": 4,
 "nbformat_minor": 2
}
